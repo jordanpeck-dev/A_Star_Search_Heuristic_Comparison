{
  "nbformat": 4,
  "nbformat_minor": 0,
  "metadata": {
    "colab": {
      "provenance": [],
      "gpuType": "T4"
    },
    "kernelspec": {
      "name": "python3",
      "display_name": "Python 3"
    },
    "language_info": {
      "name": "python"
    },
    "accelerator": "GPU"
  },
  "cells": [
    {
      "cell_type": "markdown",
      "source": [
        "#Setup"
      ],
      "metadata": {
        "id": "Rfk4gERS59ZD"
      }
    },
    {
      "cell_type": "code",
      "source": [
        "import copy                       # Used to create fresh deep copies of puzzle states when creating new nodes\n",
        "import heapq                      # Used to hold edge states\n",
        "import time                       # Used to compare performance of heuristic scores\n",
        "import matplotlib.pyplot as plt   # Used to visualize performence metrics"
      ],
      "metadata": {
        "id": "vreppBoKZ4c3"
      },
      "execution_count": null,
      "outputs": []
    },
    {
      "cell_type": "markdown",
      "source": [
        "#Heuristic Scores"
      ],
      "metadata": {
        "id": "gvkCd0gznAVo"
      }
    },
    {
      "cell_type": "code",
      "source": [
        "def manhattan_distance_score(puzzle):                   # Compares every entry of the puzzle to its ideal location\n",
        "  size = len(puzzle)\n",
        "  score = 0\n",
        "\n",
        "  for row in range(size):\n",
        "    for col in range(size):\n",
        "      entry = puzzle[row][col]\n",
        "      di, dj = int((entry-1)/size), (entry - 1) % size  # Calculate ideal coordinates for the integer at 'entry'\n",
        "\n",
        "      if entry != 0:\n",
        "        score += abs(row - di) + abs(col - dj)          # Calculate the difference between actual and ideal location\n",
        "\n",
        "  return score"
      ],
      "metadata": {
        "id": "O3lFksSSswfv"
      },
      "execution_count": null,
      "outputs": []
    },
    {
      "cell_type": "code",
      "source": [
        "def misplaced_tile_score(puzzle):                                                   # Calculates the number of entries that are not in their proper place\n",
        "  size = len(puzzle)\n",
        "  score = 0\n",
        "  for row in range(size):\n",
        "    for col in range(size):\n",
        "      if puzzle[row][col] != 0 and puzzle[row][col] != (size * row) + (col + 1):    # Determine what value should be at this position and increment score if not equal to actual value\n",
        "        score += 1\n",
        "  return score"
      ],
      "metadata": {
        "id": "H4axOEwdqVuS"
      },
      "execution_count": null,
      "outputs": []
    },
    {
      "cell_type": "markdown",
      "source": [
        "#Node Code"
      ],
      "metadata": {
        "id": "uZQuQVMQDHB8"
      }
    },
    {
      "cell_type": "code",
      "source": [
        "class Node:\n",
        "  def __init__(self, state, zero, g = 0, h = 0, children = [], parent = None):\n",
        "    self.state    = copy.deepcopy(state)      # The array representation of the puzzle\n",
        "    self.zero     = zero                      # The i,j coordinates of 0\n",
        "    self.g        = g                         # Current cost for this node (important for maintaining search order)\n",
        "    self.h        = h                         # Heuristic estimate cost for this node\n",
        "    self.children = children                  # Array of child nodes\n",
        "    self.parent   = parent                    # Parent node\n",
        "\n",
        "  def to_tuple(self):                         # Convert puzzle array to tuple to hash visited states into dictionary\n",
        "    tup = []\n",
        "    for row in self.state:\n",
        "      tup.append(tuple(row))\n",
        "    return tuple(tup)\n",
        "\n",
        "  def __lt__(self, other):                    # Used when comparing two nodes for queue ordering compares the g and h scores of this node and another node\n",
        "    return self.g + self.h < other.g + other.h\n",
        "\n",
        "  def __str__(self):                          # Prints the contents of the nodes variables\n",
        "    puzStr = \"\"\n",
        "    for row in self.state:\n",
        "      puzStr += str(row) + \"\\n\"\n",
        "    return puzStr + \" g(n): \" +  str(self.g) + \" h(n): \" + str(self.h) + \" f(n) \" + str(self.g + self.h)"
      ],
      "metadata": {
        "id": "hxwVvCHwQ8H8"
      },
      "execution_count": null,
      "outputs": []
    },
    {
      "cell_type": "code",
      "source": [
        "def MAKE_NODE(state):                         # Initializes a node without having to specify the index of value 0. Assumes starting node. Leaves all other fields default\n",
        "  for i in range(len(state)):\n",
        "    for j in range(len(state)):\n",
        "      if state[i][j] == 0:\n",
        "        return Node(state, (i, j))"
      ],
      "metadata": {
        "id": "zbT5qDCDCJGp"
      },
      "execution_count": null,
      "outputs": []
    },
    {
      "cell_type": "markdown",
      "source": [
        "#Backbone Definitions"
      ],
      "metadata": {
        "id": "oy2oDimM6bzb"
      }
    },
    {
      "cell_type": "code",
      "source": [
        "class NPuzProb:\n",
        "  def __init__(self, INITIAL_STATE):\n",
        "    self.INITIAL_STATE  = copy.deepcopy(INITIAL_STATE)                                      # The starting puzzle array for this instance of the n puzzle problem\n",
        "    self.OPERATORS      = [self.Swap_Up, self.Swap_Left, self.Swap_Down, self.Swap_Right]   # The array of functions which define the possible moves that can be made\n",
        "    self.size           = len(INITIAL_STATE)                                                # the size of an arbitrary square n-puzzle\n",
        "\n",
        "  def Goal_Test(self, state):                                                               # Recycle misplaced tile score to check for goal state\n",
        "    return misplaced_tile_score(state) == 0\n",
        "\n",
        "  def Swap_Up(self, node):                                                                  # Check if 0 can be swapped with entry above and if so return a new array with the swapped values and the new index of 0\n",
        "    i, j = node.zero                                                                        # Other operators function in simlar fashion\n",
        "\n",
        "    if i > 0:\n",
        "      s = copy.deepcopy(node.state)\n",
        "      s[i][j], s[i - 1][j], = s[i - 1][j], s[i][j]\n",
        "      return s, (i - 1, j)\n",
        "\n",
        "  def Swap_Left(self, node):\n",
        "    i, j = node.zero\n",
        "\n",
        "    if j > 0:\n",
        "      s = copy.deepcopy(node.state)\n",
        "      s[i][j], s[i][j - 1], = s[i][j - 1],s[i][j]\n",
        "      return s, (i, j - 1)\n",
        "\n",
        "  def Swap_Down(self, node):\n",
        "    i, j = node.zero\n",
        "\n",
        "    if i < self.size - 1:\n",
        "      s = copy.deepcopy(node.state)\n",
        "      s[i][j], s[i + 1][j], = s[i + 1][j], s[i][j]\n",
        "      return s, (i + 1, j)\n",
        "\n",
        "  def Swap_Right(self, node):\n",
        "    i, j = node.zero\n",
        "\n",
        "    if j < self.size - 1:\n",
        "      s = copy.deepcopy(node.state)\n",
        "      s[i][j], s[i][j + 1], = s[i][j + 1], s[i][j]\n",
        "      return s, (i, j + 1)"
      ],
      "metadata": {
        "id": "qFbuKRkwkHyJ"
      },
      "execution_count": null,
      "outputs": []
    },
    {
      "cell_type": "code",
      "source": [
        "def EXPAND(node, operators, visited_states):                          # Expand all possible states from a given node using the operators defined in 'problem'.\n",
        "  c = []                                                              # Do not pass through visited nodes to be added to the search space\n",
        "\n",
        "  for op in operators:\n",
        "    temp = op(node)\n",
        "\n",
        "    if temp:\n",
        "      s, z = temp\n",
        "      n = Node(state = s, zero = z, g = node.g + 1, parent = node)\n",
        "\n",
        "      if n.to_tuple() not in visited_states:\n",
        "        visited_states[n.to_tuple()] = \"seen\"\n",
        "        c.append(n)\n",
        "\n",
        "  node.children = c\n",
        "  return node.children"
      ],
      "metadata": {
        "id": "lexwNR3m4l4I"
      },
      "execution_count": null,
      "outputs": []
    },
    {
      "cell_type": "markdown",
      "source": [
        "#Queue Management"
      ],
      "metadata": {
        "id": "zr7kBkDaImpJ"
      }
    },
    {
      "cell_type": "code",
      "source": [
        "def MAKE_QUEUE(arr):                          #Turn an array into a queue\n",
        "  heapq.heapify(arr)\n",
        "  return arr"
      ],
      "metadata": {
        "id": "XHuuD3lKIpFr"
      },
      "execution_count": null,
      "outputs": []
    },
    {
      "cell_type": "code",
      "source": [
        "def manhattan_queuing(q, nodes):              # Adds 'nodes' to the queue using the manhattan heuristic\n",
        "  for n in nodes:\n",
        "    n.h = manhattan_distance_score(n.state)\n",
        "    heapq.heappush(q, n)\n",
        "  return q"
      ],
      "metadata": {
        "id": "iRuHT8q6Lt0G"
      },
      "execution_count": null,
      "outputs": []
    },
    {
      "cell_type": "code",
      "source": [
        "def misplaced_queuing(q, nodes):              # Adds 'nodes' to queue using the misplaced tile heuristic\n",
        "  for n in nodes:\n",
        "    n.h = misplaced_tile_score(n.state)\n",
        "    heapq.heappush(q, n)\n",
        "  return q"
      ],
      "metadata": {
        "id": "_FtMGwvHLuQi"
      },
      "execution_count": null,
      "outputs": []
    },
    {
      "cell_type": "code",
      "source": [
        "def uniform_cost_queuing(q, nodes):           # Use no heuristic. Simple queues nodes using their g cost\n",
        "  for n in nodes:\n",
        "    heapq.heappush(q, n)\n",
        "  return q"
      ],
      "metadata": {
        "id": "hXB_NeiyLzmx"
      },
      "execution_count": null,
      "outputs": []
    },
    {
      "cell_type": "markdown",
      "source": [
        "#General Search"
      ],
      "metadata": {
        "id": "GbXptudanEM4"
      }
    },
    {
      "cell_type": "code",
      "source": [
        "def general_search(problem, QUEUEING_FUNCTION):                                         # Nearly identical to the general search seen in slides. With added variables to track performance and a dictionary do track visited states\n",
        "  visited_states  = {}\n",
        "  max_q_size      = 0\n",
        "  nodes_visited   = 0\n",
        "  start_time      = time.time()\n",
        "\n",
        "  nodes = MAKE_QUEUE([MAKE_NODE(problem.INITIAL_STATE)])\n",
        "  visited_states[nodes[0].to_tuple] = \"visited\"\n",
        "\n",
        "  while nodes:\n",
        "    max_q_size = max(max_q_size, len(nodes))\n",
        "\n",
        "    node = heapq.heappop(nodes)\n",
        "    nodes_visited += 1\n",
        "\n",
        "    if problem.Goal_Test(node.state):\n",
        "      runtime = round(time.time() - start_time, 2)\n",
        "      print(\"Solution depth: \", node.g, \" Maximum queue size: \", max_q_size, \" Nodes visited: \", nodes_visited, \" Total runtime: \", runtime)\n",
        "      return node, max_q_size, nodes_visited, runtime\n",
        "\n",
        "    nodes = QUEUEING_FUNCTION(nodes, EXPAND(node, problem.OPERATORS, visited_states))\n",
        "  return \"failure\""
      ],
      "metadata": {
        "id": "aVH-ICYTQNm0"
      },
      "execution_count": null,
      "outputs": []
    },
    {
      "cell_type": "markdown",
      "source": [
        "#Utility Functions"
      ],
      "metadata": {
        "id": "ebOmFD5ZMXSK"
      }
    },
    {
      "cell_type": "code",
      "source": [
        "def ancestry(node):         #Traces back from solution node through parents to initial node to present a solution path trace\n",
        "  a = []\n",
        "  n = node\n",
        "  while n:\n",
        "    a.append(n)\n",
        "    n = n.parent\n",
        "  return a[::-1]"
      ],
      "metadata": {
        "id": "wYIT8tuDfiai"
      },
      "execution_count": null,
      "outputs": []
    },
    {
      "cell_type": "markdown",
      "source": [
        "#Testing Area"
      ],
      "metadata": {
        "id": "zlsG4I4r5Wbf"
      }
    },
    {
      "cell_type": "code",
      "execution_count": null,
      "metadata": {
        "id": "yNhxrqXvpXkN"
      },
      "outputs": [],
      "source": [
        "test_puzzles = [[[1,2,3],\n",
        "                 [4,5,6],\n",
        "                 [7,8,0]],\n",
        "                [[1,2,3],\n",
        "                 [4,5,6],\n",
        "                 [0,7,8]],\n",
        "                [[1,2,3],\n",
        "                 [5,0,6],\n",
        "                 [4,7,8]],\n",
        "                [[1,3,6],\n",
        "                 [5,0,2],\n",
        "                 [4,7,8]],\n",
        "                [[1,3,6],\n",
        "                 [5,0,7],\n",
        "                 [4,8,2]],\n",
        "                [[1,6,7],\n",
        "                 [5,0,3],\n",
        "                 [4,8,2]],\n",
        "                [[7,1,2],\n",
        "                 [4,8,5],\n",
        "                 [6,3,0]],\n",
        "                [[0,7,2],\n",
        "                 [4,6,1],\n",
        "                 [3,5,8]]]"
      ]
    },
    {
      "cell_type": "code",
      "source": [
        "\n",
        "queuing_functions = [uniform_cost_queuing, misplaced_queuing, manhattan_queuing]\n",
        "solutions = {}\n",
        "\n",
        "for q in queuing_functions:\n",
        "  qSolns = []\n",
        "\n",
        "  for t in test_puzzles:\n",
        "    prob = NPuzProb(t)\n",
        "    qSolns.append(general_search(prob, q))\n",
        "\n",
        "  solutions[q.__name__] = qSolns\n",
        "\n",
        "x_depth = []\n",
        "\n",
        "uc_q = []\n",
        "uc_n = []\n",
        "uc_r = []\n",
        "\n",
        "for s in solutions[\"uniform_cost_queuing\"]:\n",
        "  x_depth.append([s[0].g][0])\n",
        "\n",
        "  uc_q.append(s[1])\n",
        "  uc_n.append(s[2])\n",
        "  uc_r.append(s[3])\n",
        "\n",
        "mp_q = []\n",
        "mp_n = []\n",
        "mp_r = []\n",
        "\n",
        "for s in solutions[\"misplaced_queuing\"]:\n",
        "  mp_q.append(s[1])\n",
        "  mp_n.append(s[2])\n",
        "  mp_r.append(s[3])\n",
        "\n",
        "mh_q = []\n",
        "mh_n = []\n",
        "mh_r = []\n",
        "\n",
        "for s in solutions[\"manhattan_queuing\"]:\n",
        "  mh_q.append(s[1])\n",
        "  mh_n.append(s[2])\n",
        "  mh_r.append(s[3])"
      ],
      "metadata": {
        "colab": {
          "base_uri": "https://localhost:8080/"
        },
        "id": "kQrVvBZpJEMv",
        "outputId": "a387e5f7-f598-4f85-9722-9d87009cf1f2"
      },
      "execution_count": null,
      "outputs": [
        {
          "output_type": "stream",
          "name": "stdout",
          "text": [
            "Solution depth:  0  Maximum queue size:  1  Nodes visited:  1  Total runtime:  0.0\n",
            "Solution depth:  2  Maximum queue size:  6  Nodes visited:  6  Total runtime:  0.0\n",
            "Solution depth:  4  Maximum queue size:  26  Nodes visited:  34  Total runtime:  0.0\n",
            "Solution depth:  8  Maximum queue size:  173  Nodes visited:  261  Total runtime:  0.01\n",
            "Solution depth:  12  Maximum queue size:  1170  Nodes visited:  1949  Total runtime:  0.08\n",
            "Solution depth:  16  Maximum queue size:  6624  Nodes visited:  13116  Total runtime:  0.67\n",
            "Solution depth:  20  Maximum queue size:  17736  Nodes visited:  40561  Total runtime:  2.38\n",
            "Solution depth:  24  Maximum queue size:  24121  Nodes visited:  124790  Total runtime:  8.5\n",
            "Solution depth:  0  Maximum queue size:  1  Nodes visited:  1  Total runtime:  0.0\n",
            "Solution depth:  2  Maximum queue size:  4  Nodes visited:  3  Total runtime:  0.0\n",
            "Solution depth:  4  Maximum queue size:  7  Nodes visited:  5  Total runtime:  0.0\n",
            "Solution depth:  8  Maximum queue size:  17  Nodes visited:  19  Total runtime:  0.0\n",
            "Solution depth:  12  Maximum queue size:  84  Nodes visited:  121  Total runtime:  0.01\n",
            "Solution depth:  16  Maximum queue size:  367  Nodes visited:  593  Total runtime:  0.05\n",
            "Solution depth:  20  Maximum queue size:  1514  Nodes visited:  2535  Total runtime:  0.11\n",
            "Solution depth:  24  Maximum queue size:  7536  Nodes visited:  14661  Total runtime:  1.82\n",
            "Solution depth:  0  Maximum queue size:  1  Nodes visited:  1  Total runtime:  0.0\n",
            "Solution depth:  2  Maximum queue size:  4  Nodes visited:  3  Total runtime:  0.0\n",
            "Solution depth:  4  Maximum queue size:  7  Nodes visited:  5  Total runtime:  0.0\n",
            "Solution depth:  8  Maximum queue size:  13  Nodes visited:  13  Total runtime:  0.0\n",
            "Solution depth:  12  Maximum queue size:  28  Nodes visited:  38  Total runtime:  0.0\n",
            "Solution depth:  18  Maximum queue size:  142  Nodes visited:  220  Total runtime:  0.01\n",
            "Solution depth:  20  Maximum queue size:  218  Nodes visited:  331  Total runtime:  0.01\n",
            "Solution depth:  26  Maximum queue size:  1796  Nodes visited:  3258  Total runtime:  0.15\n"
          ]
        }
      ]
    },
    {
      "cell_type": "markdown",
      "source": [
        "#Data Interpretation"
      ],
      "metadata": {
        "id": "wzUoOB7Vxxqz"
      }
    },
    {
      "cell_type": "code",
      "source": [
        "#Epanded Nodes Plot\n",
        "plt.plot(x_depth, mp_n, label='Misplaced Tile')\n",
        "plt.plot(x_depth, mh_n, label='Manhattan')\n",
        "plt.plot(x_depth, uc_n, label='Uniform Cost')\n",
        "plt.xlabel(\"Problem Depth\")\n",
        "plt.ylabel(\"Nodes Expanded\")\n",
        "plt.xticks(x_depth)\n",
        "plt.legend()\n",
        "\n",
        "plt.show()"
      ],
      "metadata": {
        "colab": {
          "base_uri": "https://localhost:8080/",
          "height": 449
        },
        "id": "kr1DkudFq9dK",
        "outputId": "0c602f28-4254-4989-abf7-e9d2ed163d0c"
      },
      "execution_count": null,
      "outputs": [
        {
          "output_type": "display_data",
          "data": {
            "text/plain": [
              "<Figure size 640x480 with 1 Axes>"
            ],
            "image/png": "[encoded data removed]"
          },
          "metadata": {}
        }
      ]
    },
    {
      "cell_type": "code",
      "source": [
        "#Queue Size Plot\n",
        "plt.plot(x_depth, mp_q, label='Misplaced Tile')\n",
        "plt.plot(x_depth, mh_q, label='Manhattan')\n",
        "plt.plot(x_depth, uc_q, label='Uniform Cost')\n",
        "plt.xlabel(\"Problem Depth\")\n",
        "plt.ylabel(\"Maximum Queue Size\")\n",
        "plt.xticks(x_depth)\n",
        "\n",
        "plt.legend()\n",
        "\n",
        "plt.show()"
      ],
      "metadata": {
        "colab": {
          "base_uri": "https://localhost:8080/",
          "height": 450
        },
        "id": "X66VF_4Vzo4I",
        "outputId": "3bf81920-e7ff-4720-90d9-0133c8cc44fe"
      },
      "execution_count": null,
      "outputs": [
        {
          "output_type": "display_data",
          "data": {
            "text/plain": [
              "<Figure size 640x480 with 1 Axes>"
            ],
            "image/png": "[encoded data removed]"
          },
          "metadata": {}
        }
      ]
    },
    {
      "cell_type": "code",
      "source": [
        "#Runtime Plot\n",
        "plt.plot(x_depth, mp_r, label='Misplaced Tile')\n",
        "plt.plot(x_depth, mh_r, label='Manhattan')\n",
        "plt.plot(x_depth, uc_r, label='Uniform Cost')\n",
        "plt.xlabel(\"Problem Depth\")\n",
        "plt.ylabel(\"Runtime (sec)\")\n",
        "plt.xticks(x_depth)\n",
        "\n",
        "plt.legend()\n",
        "\n",
        "plt.show()"
      ],
      "metadata": {
        "colab": {
          "base_uri": "https://localhost:8080/",
          "height": 449
        },
        "id": "XXWVgGwWz4mU",
        "outputId": "f7fd174d-ebac-44dc-9359-187ad5c80668"
      },
      "execution_count": null,
      "outputs": [
        {
          "output_type": "display_data",
          "data": {
            "text/plain": [
              "<Figure size 640x480 with 1 Axes>"
            ],
            "image/png": "[encoded data removed]"
          },
          "metadata": {}
        }
      ]
    },
    {
      "cell_type": "markdown",
      "source": [
        "# Trace Printout"
      ],
      "metadata": {
        "id": "ELhi9km5_NTs"
      }
    },
    {
      "cell_type": "code",
      "source": [
        "easyProb = NPuzProb(test_puzzles[2])\n",
        "easySoln = general_search(easyProb, manhattan_queuing)[0]\n",
        "\n",
        "for n in ancestry(easySoln):\n",
        "  print(n)\n",
        "print()\n",
        "\n",
        "hardProb = NPuzProb(test_puzzles[-1])\n",
        "hardSoln = general_search(hardProb, manhattan_queuing)[0]\n",
        "\n",
        "for n in ancestry(hardSoln):\n",
        "  print(n)"
      ],
      "metadata": {
        "colab": {
          "base_uri": "https://localhost:8080/"
        },
        "id": "gEI2qoEv_Se7",
        "outputId": "ec8d2c36-b138-4035-9956-64cb58ef3d36"
      },
      "execution_count": null,
      "outputs": [
        {
          "output_type": "stream",
          "name": "stdout",
          "text": [
            "Solution depth:  4  Maximum queue size:  7  Nodes visited:  5  Total runtime:  0.0\n",
            "[1, 2, 3]\n",
            "[5, 0, 6]\n",
            "[4, 7, 8]\n",
            " g(n): 0 h(n): 0 f(n) 0\n",
            "[1, 2, 3]\n",
            "[0, 5, 6]\n",
            "[4, 7, 8]\n",
            " g(n): 1 h(n): 3 f(n) 4\n",
            "[1, 2, 3]\n",
            "[4, 5, 6]\n",
            "[0, 7, 8]\n",
            " g(n): 2 h(n): 2 f(n) 4\n",
            "[1, 2, 3]\n",
            "[4, 5, 6]\n",
            "[7, 0, 8]\n",
            " g(n): 3 h(n): 1 f(n) 4\n",
            "[1, 2, 3]\n",
            "[4, 5, 6]\n",
            "[7, 8, 0]\n",
            " g(n): 4 h(n): 0 f(n) 4\n",
            "\n",
            "Solution depth:  26  Maximum queue size:  1796  Nodes visited:  3258  Total runtime:  0.16\n",
            "[0, 7, 2]\n",
            "[4, 6, 1]\n",
            "[3, 5, 8]\n",
            " g(n): 0 h(n): 0 f(n) 0\n",
            "[7, 0, 2]\n",
            "[4, 6, 1]\n",
            "[3, 5, 8]\n",
            " g(n): 1 h(n): 13 f(n) 14\n",
            "[7, 6, 2]\n",
            "[4, 0, 1]\n",
            "[3, 5, 8]\n",
            " g(n): 2 h(n): 14 f(n) 16\n",
            "[7, 6, 2]\n",
            "[0, 4, 1]\n",
            "[3, 5, 8]\n",
            " g(n): 3 h(n): 15 f(n) 18\n",
            "[0, 6, 2]\n",
            "[7, 4, 1]\n",
            "[3, 5, 8]\n",
            " g(n): 4 h(n): 14 f(n) 18\n",
            "[6, 0, 2]\n",
            "[7, 4, 1]\n",
            "[3, 5, 8]\n",
            " g(n): 5 h(n): 15 f(n) 20\n",
            "[6, 4, 2]\n",
            "[7, 0, 1]\n",
            "[3, 5, 8]\n",
            " g(n): 6 h(n): 16 f(n) 22\n",
            "[6, 4, 2]\n",
            "[7, 1, 0]\n",
            "[3, 5, 8]\n",
            " g(n): 7 h(n): 15 f(n) 22\n",
            "[6, 4, 2]\n",
            "[7, 1, 8]\n",
            "[3, 5, 0]\n",
            " g(n): 8 h(n): 16 f(n) 24\n",
            "[6, 4, 2]\n",
            "[7, 1, 8]\n",
            "[3, 0, 5]\n",
            " g(n): 9 h(n): 17 f(n) 26\n",
            "[6, 4, 2]\n",
            "[7, 1, 8]\n",
            "[0, 3, 5]\n",
            " g(n): 10 h(n): 16 f(n) 26\n",
            "[6, 4, 2]\n",
            "[0, 1, 8]\n",
            "[7, 3, 5]\n",
            " g(n): 11 h(n): 15 f(n) 26\n",
            "[6, 4, 2]\n",
            "[1, 0, 8]\n",
            "[7, 3, 5]\n",
            " g(n): 12 h(n): 14 f(n) 26\n",
            "[6, 4, 2]\n",
            "[1, 3, 8]\n",
            "[7, 0, 5]\n",
            " g(n): 13 h(n): 13 f(n) 26\n",
            "[6, 4, 2]\n",
            "[1, 3, 8]\n",
            "[7, 5, 0]\n",
            " g(n): 14 h(n): 12 f(n) 26\n",
            "[6, 4, 2]\n",
            "[1, 3, 0]\n",
            "[7, 5, 8]\n",
            " g(n): 15 h(n): 11 f(n) 26\n",
            "[6, 4, 2]\n",
            "[1, 0, 3]\n",
            "[7, 5, 8]\n",
            " g(n): 16 h(n): 10 f(n) 26\n",
            "[6, 0, 2]\n",
            "[1, 4, 3]\n",
            "[7, 5, 8]\n",
            " g(n): 17 h(n): 9 f(n) 26\n",
            "[0, 6, 2]\n",
            "[1, 4, 3]\n",
            "[7, 5, 8]\n",
            " g(n): 18 h(n): 8 f(n) 26\n",
            "[1, 6, 2]\n",
            "[0, 4, 3]\n",
            "[7, 5, 8]\n",
            " g(n): 19 h(n): 7 f(n) 26\n",
            "[1, 6, 2]\n",
            "[4, 0, 3]\n",
            "[7, 5, 8]\n",
            " g(n): 20 h(n): 6 f(n) 26\n",
            "[1, 0, 2]\n",
            "[4, 6, 3]\n",
            "[7, 5, 8]\n",
            " g(n): 21 h(n): 5 f(n) 26\n",
            "[1, 2, 0]\n",
            "[4, 6, 3]\n",
            "[7, 5, 8]\n",
            " g(n): 22 h(n): 4 f(n) 26\n",
            "[1, 2, 3]\n",
            "[4, 6, 0]\n",
            "[7, 5, 8]\n",
            " g(n): 23 h(n): 3 f(n) 26\n",
            "[1, 2, 3]\n",
            "[4, 0, 6]\n",
            "[7, 5, 8]\n",
            " g(n): 24 h(n): 2 f(n) 26\n",
            "[1, 2, 3]\n",
            "[4, 5, 6]\n",
            "[7, 0, 8]\n",
            " g(n): 25 h(n): 1 f(n) 26\n",
            "[1, 2, 3]\n",
            "[4, 5, 6]\n",
            "[7, 8, 0]\n",
            " g(n): 26 h(n): 0 f(n) 26\n"
          ]
        }
      ]
    },
    {
      "cell_type": "markdown",
      "source": [
        "#Main function (custom testing)"
      ],
      "metadata": {
        "id": "YbNMb9Jil7-H"
      }
    },
    {
      "cell_type": "code",
      "source": [
        "def main():\n",
        "  size = int(input(\"Enter the size of n-puzzle you would like to solve (# of rows).\"))\n",
        "  print(\"Please enter a valid \" + str(size) + \"-puzzle to solve. Use spaces to delimit entries and 0 to represent the empty space.\")\n",
        "\n",
        "  rows = []\n",
        "  for i in range(size):\n",
        "    row = input(\"Enter row \" + str(i + 1) + \" \").split()\n",
        "    for j in range(len(row)):\n",
        "      row[j] = int(row[j])\n",
        "    rows.append(row)\n",
        "  print(rows)\n",
        "\n",
        "  prob = NPuzProb(rows)\n",
        "  soln = general_search(prob, manhattan_queuing)[0]\n",
        "\n",
        "  for a in ancestry(soln):\n",
        "    print(a)\n",
        "\n",
        "if __name__ == \"__main__\":\n",
        "  main()"
      ],
      "metadata": {
        "colab": {
          "base_uri": "https://localhost:8080/",
          "height": 391
        },
        "id": "rlc4_JCHgoIZ",
        "outputId": "b97a7187-61af-48cf-e66d-ae76ef730e20"
      },
      "execution_count": null,
      "outputs": [
        {
          "output_type": "stream",
          "name": "stdout",
          "text": [
            "Enter the size of n-puzzle you would like to solve (# of rows).2\n",
            "Please enter a valid 2-puzzle to solve. Use spaces to delimit entries and 0 to represent the empty space.\n",
            "Enter row 1 2 1\n",
            "Enter row 2 3 0\n",
            "[[2, 1], [3, 0]]\n"
          ]
        },
        {
          "output_type": "error",
          "ename": "AttributeError",
          "evalue": "'str' object has no attribute 'parent'",
          "traceback": [
            "\u001b[0;31m---------------------------------------------------------------------------\u001b[0m",
            "\u001b[0;31mAttributeError\u001b[0m                            Traceback (most recent call last)",
            "\u001b[0;32m<ipython-input-23-e195e3783df1>\u001b[0m in \u001b[0;36m<cell line: 0>\u001b[0;34m()\u001b[0m\n\u001b[1;32m     18\u001b[0m \u001b[0;34m\u001b[0m\u001b[0m\n\u001b[1;32m     19\u001b[0m \u001b[0;32mif\u001b[0m \u001b[0m__name__\u001b[0m \u001b[0;34m==\u001b[0m \u001b[0;34m\"__main__\"\u001b[0m\u001b[0;34m:\u001b[0m\u001b[0;34m\u001b[0m\u001b[0;34m\u001b[0m\u001b[0m\n\u001b[0;32m---> 20\u001b[0;31m   \u001b[0mmain\u001b[0m\u001b[0;34m(\u001b[0m\u001b[0;34m)\u001b[0m\u001b[0;34m\u001b[0m\u001b[0;34m\u001b[0m\u001b[0m\n\u001b[0m",
            "\u001b[0;32m<ipython-input-23-e195e3783df1>\u001b[0m in \u001b[0;36mmain\u001b[0;34m()\u001b[0m\n\u001b[1;32m     14\u001b[0m   \u001b[0msoln\u001b[0m \u001b[0;34m=\u001b[0m \u001b[0mgeneral_search\u001b[0m\u001b[0;34m(\u001b[0m\u001b[0mprob\u001b[0m\u001b[0;34m,\u001b[0m \u001b[0mmanhattan_queuing\u001b[0m\u001b[0;34m)\u001b[0m\u001b[0;34m[\u001b[0m\u001b[0;36m0\u001b[0m\u001b[0;34m]\u001b[0m\u001b[0;34m\u001b[0m\u001b[0;34m\u001b[0m\u001b[0m\n\u001b[1;32m     15\u001b[0m \u001b[0;34m\u001b[0m\u001b[0m\n\u001b[0;32m---> 16\u001b[0;31m   \u001b[0;32mfor\u001b[0m \u001b[0ma\u001b[0m \u001b[0;32min\u001b[0m \u001b[0mancestry\u001b[0m\u001b[0;34m(\u001b[0m\u001b[0msoln\u001b[0m\u001b[0;34m)\u001b[0m\u001b[0;34m:\u001b[0m\u001b[0;34m\u001b[0m\u001b[0;34m\u001b[0m\u001b[0m\n\u001b[0m\u001b[1;32m     17\u001b[0m     \u001b[0mprint\u001b[0m\u001b[0;34m(\u001b[0m\u001b[0ma\u001b[0m\u001b[0;34m)\u001b[0m\u001b[0;34m\u001b[0m\u001b[0;34m\u001b[0m\u001b[0m\n\u001b[1;32m     18\u001b[0m \u001b[0;34m\u001b[0m\u001b[0m\n",
            "\u001b[0;32m<ipython-input-14-ae138c8a6f12>\u001b[0m in \u001b[0;36mancestry\u001b[0;34m(node)\u001b[0m\n\u001b[1;32m      4\u001b[0m   \u001b[0;32mwhile\u001b[0m \u001b[0mn\u001b[0m\u001b[0;34m:\u001b[0m\u001b[0;34m\u001b[0m\u001b[0;34m\u001b[0m\u001b[0m\n\u001b[1;32m      5\u001b[0m     \u001b[0ma\u001b[0m\u001b[0;34m.\u001b[0m\u001b[0mappend\u001b[0m\u001b[0;34m(\u001b[0m\u001b[0mn\u001b[0m\u001b[0;34m)\u001b[0m\u001b[0;34m\u001b[0m\u001b[0;34m\u001b[0m\u001b[0m\n\u001b[0;32m----> 6\u001b[0;31m     \u001b[0mn\u001b[0m \u001b[0;34m=\u001b[0m \u001b[0mn\u001b[0m\u001b[0;34m.\u001b[0m\u001b[0mparent\u001b[0m\u001b[0;34m\u001b[0m\u001b[0;34m\u001b[0m\u001b[0m\n\u001b[0m\u001b[1;32m      7\u001b[0m   \u001b[0;32mreturn\u001b[0m \u001b[0ma\u001b[0m\u001b[0;34m[\u001b[0m\u001b[0;34m:\u001b[0m\u001b[0;34m:\u001b[0m\u001b[0;34m-\u001b[0m\u001b[0;36m1\u001b[0m\u001b[0;34m]\u001b[0m\u001b[0;34m\u001b[0m\u001b[0;34m\u001b[0m\u001b[0m\n",
            "\u001b[0;31mAttributeError\u001b[0m: 'str' object has no attribute 'parent'"
          ]
        }
      ]
    }
  ]
}